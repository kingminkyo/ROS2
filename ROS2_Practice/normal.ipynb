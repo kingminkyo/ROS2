{
 "cells": [
  {
   "cell_type": "code",
   "execution_count": 1,
   "id": "46caf9a7",
   "metadata": {},
   "outputs": [],
   "source": [
    "import rclpy as rp\n",
    "from geometry_msgs.msg import Twist\n",
    "\n",
    "rp.init()\n",
    "test_node = rp.create_node('pub_test')"
   ]
  },
  {
   "cell_type": "code",
   "execution_count": 2,
   "id": "dbe96fbd",
   "metadata": {},
   "outputs": [
    {
     "name": "stdout",
     "output_type": "stream",
     "text": [
      "geometry_msgs.msg.Twist(linear=geometry_msgs.msg.Vector3(x=0.0, y=0.0, z=0.0), angular=geometry_msgs.msg.Vector3(x=0.0, y=0.0, z=0.0))\n"
     ]
    }
   ],
   "source": [
    "msg = Twist()\n",
    "print(msg)\n"
   ]
  },
  {
   "cell_type": "code",
   "execution_count": 32,
   "id": "30856089",
   "metadata": {},
   "outputs": [
    {
     "name": "stdout",
     "output_type": "stream",
     "text": [
      "geometry_msgs.msg.Twist(linear=geometry_msgs.msg.Vector3(x=-2.0, y=-1.0, z=-2.0), angular=geometry_msgs.msg.Vector3(x=2.0, y=2.0, z=0.0))\n"
     ]
    }
   ],
   "source": [
    "msg.linear.y = -1.0\n",
    "msg.angular.y= 2.0\n",
    "print(msg)"
   ]
  },
  {
   "cell_type": "code",
   "execution_count": 33,
   "id": "7045c34c",
   "metadata": {},
   "outputs": [],
   "source": [
    "pub = test_node.create_publisher(Twist, '/turtle1/cmd_vel', \n",
    "                                 10)\n",
    "pub.publish(msg)"
   ]
  },
  {
   "cell_type": "code",
   "execution_count": null,
   "id": "4c0823d7",
   "metadata": {},
   "outputs": [],
   "source": [
    "cnt =0\n",
    "def timer_callback():\n",
    "    global cnt\n",
    "    cnt+=1\n",
    "    print(cnt)\n",
    "    pub.publish(msg)\n",
    "    \n",
    "    if cnt>3:\n",
    "        raise Exception(\"Publisher Stop\")"
   ]
  },
  {
   "cell_type": "code",
   "execution_count": null,
   "id": "43fd5a6f",
   "metadata": {},
   "outputs": [],
   "source": []
  }
 ],
 "metadata": {
  "kernelspec": {
   "display_name": "Python 3 (ipykernel)",
   "language": "python",
   "name": "python3"
  },
  "language_info": {
   "codemirror_mode": {
    "name": "ipython",
    "version": 3
   },
   "file_extension": ".py",
   "mimetype": "text/x-python",
   "name": "python",
   "nbconvert_exporter": "python",
   "pygments_lexer": "ipython3",
   "version": "3.8.10"
  }
 },
 "nbformat": 4,
 "nbformat_minor": 5
}
