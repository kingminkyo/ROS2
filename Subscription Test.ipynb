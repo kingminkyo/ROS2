{
 "cells": [
  {
   "cell_type": "code",
   "execution_count": 2,
   "id": "1c4216b9",
   "metadata": {},
   "outputs": [],
   "source": [
    "import rclpy as rp\n",
    "from turtlesim.msg import Pose"
   ]
  },
  {
   "cell_type": "code",
   "execution_count": 3,
   "id": "2d67f9c7",
   "metadata": {},
   "outputs": [],
   "source": [
    "rp.init()\n",
    "test_node = rp.create_node('sub_test')"
   ]
  },
  {
   "cell_type": "code",
   "execution_count": null,
   "id": "219d4be9",
   "metadata": {},
   "outputs": [],
   "source": [
    "# cnt = 0\n",
    "# def callback(data):\n",
    "#     global cnt\n",
    "#     print(\"--->\")\n",
    "#     cnt +=1\n",
    "#     print(\"/turtle1/pose : \", data)\n",
    "#     print(\"It's X's data : \", data.x)\n",
    "#     print(\"Y : \", data.y)\n",
    "#     print(\"Theta : \", data.theta)"
   ]
  },
  {
   "cell_type": "code",
   "execution_count": 1,
   "id": "dc1866a4",
   "metadata": {},
   "outputs": [],
   "source": [
    "cnt = 0\n",
    "def callback(data):\n",
    "    global cnt\n",
    "    print(\"--->\")\n",
    "    cnt +=1\n",
    "    print(\">\", cnt, \" -> X : \", data.x, \", Y : \", data.y)\n",
    "    if cnt>3:\n",
    "        raise Exception(\"Subscription Stop\")\n",
    "        "
   ]
  },
  {
   "cell_type": "code",
   "execution_count": 4,
   "id": "2b79529b",
   "metadata": {},
   "outputs": [
    {
     "data": {
      "text/plain": [
       "<rclpy.subscription.Subscription at 0x7f8e64156880>"
      ]
     },
     "execution_count": 4,
     "metadata": {},
     "output_type": "execute_result"
    }
   ],
   "source": [
    "test_node.create_subscription(Pose, '/turtle1/pose', callback, 10)"
   ]
  },
  {
   "cell_type": "code",
   "execution_count": 5,
   "id": "bd76b1d4",
   "metadata": {},
   "outputs": [
    {
     "name": "stdout",
     "output_type": "stream",
     "text": [
      "--->\n",
      "> 1  -> X :  5.544444561004639 , Y :  5.544444561004639\n"
     ]
    }
   ],
   "source": [
    "rp.spin_once(test_node)"
   ]
  },
  {
   "cell_type": "code",
   "execution_count": 6,
   "id": "a7e6a215",
   "metadata": {},
   "outputs": [
    {
     "name": "stdout",
     "output_type": "stream",
     "text": [
      "--->\n",
      "> 2  -> X :  5.544444561004639 , Y :  5.544444561004639\n",
      "--->\n",
      "> 3  -> X :  5.544444561004639 , Y :  5.544444561004639\n",
      "--->\n",
      "> 4  -> X :  5.544444561004639 , Y :  5.544444561004639\n"
     ]
    },
    {
     "ename": "Exception",
     "evalue": "Subscription Stop",
     "output_type": "error",
     "traceback": [
      "\u001b[0;31m---------------------------------------------------------------------------\u001b[0m",
      "\u001b[0;31mException\u001b[0m                                 Traceback (most recent call last)",
      "Cell \u001b[0;32mIn[6], line 1\u001b[0m\n\u001b[0;32m----> 1\u001b[0m \u001b[43mrp\u001b[49m\u001b[38;5;241;43m.\u001b[39;49m\u001b[43mspin\u001b[49m\u001b[43m(\u001b[49m\u001b[43mtest_node\u001b[49m\u001b[43m)\u001b[49m\n",
      "File \u001b[0;32m/opt/ros/galactic/lib/python3.8/site-packages/rclpy/__init__.py:196\u001b[0m, in \u001b[0;36mspin\u001b[0;34m(node, executor)\u001b[0m\n\u001b[1;32m    194\u001b[0m     executor\u001b[38;5;241m.\u001b[39madd_node(node)\n\u001b[1;32m    195\u001b[0m     \u001b[38;5;28;01mwhile\u001b[39;00m executor\u001b[38;5;241m.\u001b[39mcontext\u001b[38;5;241m.\u001b[39mok():\n\u001b[0;32m--> 196\u001b[0m         \u001b[43mexecutor\u001b[49m\u001b[38;5;241;43m.\u001b[39;49m\u001b[43mspin_once\u001b[49m\u001b[43m(\u001b[49m\u001b[43m)\u001b[49m\n\u001b[1;32m    197\u001b[0m \u001b[38;5;28;01mfinally\u001b[39;00m:\n\u001b[1;32m    198\u001b[0m     executor\u001b[38;5;241m.\u001b[39mremove_node(node)\n",
      "File \u001b[0;32m/opt/ros/galactic/lib/python3.8/site-packages/rclpy/executors.py:713\u001b[0m, in \u001b[0;36mSingleThreadedExecutor.spin_once\u001b[0;34m(self, timeout_sec)\u001b[0m\n\u001b[1;32m    711\u001b[0m handler()\n\u001b[1;32m    712\u001b[0m \u001b[38;5;28;01mif\u001b[39;00m handler\u001b[38;5;241m.\u001b[39mexception() \u001b[38;5;129;01mis\u001b[39;00m \u001b[38;5;129;01mnot\u001b[39;00m \u001b[38;5;28;01mNone\u001b[39;00m:\n\u001b[0;32m--> 713\u001b[0m     \u001b[38;5;28;01mraise\u001b[39;00m handler\u001b[38;5;241m.\u001b[39mexception()\n",
      "File \u001b[0;32m/opt/ros/galactic/lib/python3.8/site-packages/rclpy/task.py:239\u001b[0m, in \u001b[0;36mTask.__call__\u001b[0;34m(self)\u001b[0m\n\u001b[1;32m    236\u001b[0m \u001b[38;5;28;01mif\u001b[39;00m inspect\u001b[38;5;241m.\u001b[39miscoroutine(\u001b[38;5;28mself\u001b[39m\u001b[38;5;241m.\u001b[39m_handler):\n\u001b[1;32m    237\u001b[0m     \u001b[38;5;66;03m# Execute a coroutine\u001b[39;00m\n\u001b[1;32m    238\u001b[0m     \u001b[38;5;28;01mtry\u001b[39;00m:\n\u001b[0;32m--> 239\u001b[0m         \u001b[38;5;28;43mself\u001b[39;49m\u001b[38;5;241;43m.\u001b[39;49m\u001b[43m_handler\u001b[49m\u001b[38;5;241;43m.\u001b[39;49m\u001b[43msend\u001b[49m\u001b[43m(\u001b[49m\u001b[38;5;28;43;01mNone\u001b[39;49;00m\u001b[43m)\u001b[49m\n\u001b[1;32m    240\u001b[0m     \u001b[38;5;28;01mexcept\u001b[39;00m \u001b[38;5;167;01mStopIteration\u001b[39;00m \u001b[38;5;28;01mas\u001b[39;00m e:\n\u001b[1;32m    241\u001b[0m         \u001b[38;5;66;03m# The coroutine finished; store the result\u001b[39;00m\n\u001b[1;32m    242\u001b[0m         \u001b[38;5;28mself\u001b[39m\u001b[38;5;241m.\u001b[39m_handler\u001b[38;5;241m.\u001b[39mclose()\n",
      "File \u001b[0;32m/opt/ros/galactic/lib/python3.8/site-packages/rclpy/executors.py:418\u001b[0m, in \u001b[0;36mExecutor._make_handler.<locals>.handler\u001b[0;34m(entity, gc, is_shutdown, work_tracker)\u001b[0m\n\u001b[1;32m    415\u001b[0m gc\u001b[38;5;241m.\u001b[39mtrigger()\n\u001b[1;32m    417\u001b[0m \u001b[38;5;28;01mtry\u001b[39;00m:\n\u001b[0;32m--> 418\u001b[0m     \u001b[38;5;28;01mawait\u001b[39;00m call_coroutine(entity, arg)\n\u001b[1;32m    419\u001b[0m \u001b[38;5;28;01mfinally\u001b[39;00m:\n\u001b[1;32m    420\u001b[0m     entity\u001b[38;5;241m.\u001b[39mcallback_group\u001b[38;5;241m.\u001b[39mending_execution(entity)\n",
      "File \u001b[0;32m/opt/ros/galactic/lib/python3.8/site-packages/rclpy/executors.py:343\u001b[0m, in \u001b[0;36mExecutor._execute_subscription\u001b[0;34m(self, sub, msg)\u001b[0m\n\u001b[1;32m    341\u001b[0m \u001b[38;5;28;01masync\u001b[39;00m \u001b[38;5;28;01mdef\u001b[39;00m \u001b[38;5;21m_execute_subscription\u001b[39m(\u001b[38;5;28mself\u001b[39m, sub, msg):\n\u001b[1;32m    342\u001b[0m     \u001b[38;5;28;01mif\u001b[39;00m msg:\n\u001b[0;32m--> 343\u001b[0m         \u001b[38;5;28;01mawait\u001b[39;00m await_or_execute(sub\u001b[38;5;241m.\u001b[39mcallback, msg)\n",
      "File \u001b[0;32m/opt/ros/galactic/lib/python3.8/site-packages/rclpy/executors.py:107\u001b[0m, in \u001b[0;36mawait_or_execute\u001b[0;34m(callback, *args)\u001b[0m\n\u001b[1;32m    104\u001b[0m     \u001b[38;5;28;01mreturn\u001b[39;00m \u001b[38;5;28;01mawait\u001b[39;00m callback(\u001b[38;5;241m*\u001b[39margs)\n\u001b[1;32m    105\u001b[0m \u001b[38;5;28;01melse\u001b[39;00m:\n\u001b[1;32m    106\u001b[0m     \u001b[38;5;66;03m# Call a normal function\u001b[39;00m\n\u001b[0;32m--> 107\u001b[0m     \u001b[38;5;28;01mreturn\u001b[39;00m \u001b[43mcallback\u001b[49m\u001b[43m(\u001b[49m\u001b[38;5;241;43m*\u001b[39;49m\u001b[43margs\u001b[49m\u001b[43m)\u001b[49m\n",
      "Cell \u001b[0;32mIn[1], line 8\u001b[0m, in \u001b[0;36mcallback\u001b[0;34m(data)\u001b[0m\n\u001b[1;32m      6\u001b[0m \u001b[38;5;28mprint\u001b[39m(\u001b[38;5;124m\"\u001b[39m\u001b[38;5;124m>\u001b[39m\u001b[38;5;124m\"\u001b[39m, cnt, \u001b[38;5;124m\"\u001b[39m\u001b[38;5;124m -> X : \u001b[39m\u001b[38;5;124m\"\u001b[39m, data\u001b[38;5;241m.\u001b[39mx, \u001b[38;5;124m\"\u001b[39m\u001b[38;5;124m, Y : \u001b[39m\u001b[38;5;124m\"\u001b[39m, data\u001b[38;5;241m.\u001b[39my)\n\u001b[1;32m      7\u001b[0m \u001b[38;5;28;01mif\u001b[39;00m cnt\u001b[38;5;241m>\u001b[39m\u001b[38;5;241m3\u001b[39m:\n\u001b[0;32m----> 8\u001b[0m     \u001b[38;5;28;01mraise\u001b[39;00m \u001b[38;5;167;01mException\u001b[39;00m(\u001b[38;5;124m\"\u001b[39m\u001b[38;5;124mSubscription Stop\u001b[39m\u001b[38;5;124m\"\u001b[39m)\n",
      "\u001b[0;31mException\u001b[0m: Subscription Stop"
     ]
    },
    {
     "name": "stderr",
     "output_type": "stream",
     "text": [
      "1674795299.494764 [0]        tev: ddsi_udp_conn_write to udp/239.255.0.1:7400 failed with retcode -1\n",
      "1674795299.569729 [0]        tev: ddsi_udp_conn_write to udp/239.255.0.1:7400 failed with retcode -1\n",
      "1674795299.594742 [0]        tev: ddsi_udp_conn_write to udp/239.255.0.1:7400 failed with retcode -1\n",
      "1674795299.695003 [0]        tev: ddsi_udp_conn_write to udp/239.255.0.1:7400 failed with retcode -1\n",
      "1674795299.807178 [0]        tev: ddsi_udp_conn_write to udp/239.255.0.1:7400 failed with retcode -1\n",
      "1674795299.908710 [0]        tev: ddsi_udp_conn_write to udp/239.255.0.1:7400 failed with retcode -1\n",
      "1674795300.009663 [0]        tev: ddsi_udp_conn_write to udp/239.255.0.1:7400 failed with retcode -1\n",
      "1674795300.109660 [0]        tev: ddsi_udp_conn_write to udp/239.255.0.1:7400 failed with retcode -1\n",
      "1674795300.310281 [0]        tev: ddsi_udp_conn_write to udp/239.255.0.1:7400 failed with retcode -1\n",
      "1674795300.510516 [0]        tev: ddsi_udp_conn_write to udp/239.255.0.1:7400 failed with retcode -1\n",
      "1674795300.910732 [0]        tev: ddsi_udp_conn_write to udp/239.255.0.1:7400 failed with retcode -1\n",
      "1674795301.320207 [0]        tev: ddsi_udp_conn_write to udp/239.255.0.1:7400 failed with retcode -1\n"
     ]
    }
   ],
   "source": [
    "rp.spin(test_node)"
   ]
  },
  {
   "cell_type": "code",
   "execution_count": null,
   "id": "dc9a4f24",
   "metadata": {},
   "outputs": [],
   "source": []
  }
 ],
 "metadata": {
  "kernelspec": {
   "display_name": "Python 3 (ipykernel)",
   "language": "python",
   "name": "python3"
  },
  "language_info": {
   "codemirror_mode": {
    "name": "ipython",
    "version": 3
   },
   "file_extension": ".py",
   "mimetype": "text/x-python",
   "name": "python",
   "nbconvert_exporter": "python",
   "pygments_lexer": "ipython3",
   "version": "3.8.10"
  }
 },
 "nbformat": 4,
 "nbformat_minor": 5
}
